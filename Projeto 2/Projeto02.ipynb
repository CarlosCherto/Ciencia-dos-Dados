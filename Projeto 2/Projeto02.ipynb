{
 "cells": [
  {
   "cell_type": "markdown",
   "metadata": {},
   "source": [
    "# Projeto 2 - Classificador Automático de Sentimento\n",
    "\n",
    "Você foi contratado por uma empresa parar analisar como os clientes estão reagindo a um determinado produto no Twitter. A empresa deseja que você crie um programa que irá analisar as mensagens disponíveis e classificará como \"relevante\" ou \"irrelevante\". Com isso ela deseja que mensagens negativas, que denigrem o nome do produto, ou que mereçam destaque, disparem um foco de atenção da área de marketing.<br /><br />\n",
    "Como aluno de Ciência dos Dados, você lembrou do Teorema de Bayes, mais especificamente do Classificador Naive-Bayes, que é largamente utilizado em filtros anti-spam de e-mails. O classificador permite calcular qual a probabilidade de uma mensagem ser relevante dadas as palavras em seu conteúdo.<br /><br />\n",
    "Para realizar o MVP (*minimum viable product*) do projeto, você precisa implementar uma versão do classificador que \"aprende\" o que é relevante com uma base de treinamento e compara a performance dos resultados com uma base de testes.<br /><br />\n",
    "Após validado, o seu protótipo poderá também capturar e classificar automaticamente as mensagens da plataforma.\n",
    "\n",
    "## Informações do Projeto\n",
    "\n",
    "Prazo: 13/Set até às 23:59.<br />\n",
    "Grupo: 1 ou 2 pessoas.<br /><br />\n",
    "Entregáveis via GitHub: \n",
    "* Arquivo notebook com o código do classificador, seguindo as orientações abaixo.\n",
    "* Arquivo Excel com as bases de treinamento e teste totalmente classificado.\n",
    "\n",
    "**NÃO disponibilizar o arquivo com os *access keys/tokens* do Twitter.**\n",
    "\n",
    "\n",
    "### Check 3: \n",
    "\n",
    "Até o dia 06 de Setembro às 23:59, o notebook e o xlsx devem estar no Github com as seguintes evidências: \n",
    "    * Conta no twitter criada.\n",
    "    * Produto escolhido.\n",
    "    * Arquivo Excel contendo a base de treinamento e teste já classificado.\n",
    "\n",
    "Sugestão de leitura:<br />\n",
    "http://docs.tweepy.org/en/v3.5.0/index.html<br />\n",
    "https://monkeylearn.com/blog/practical-explanation-naive-bayes-classifier/"
   ]
  },
  {
   "cell_type": "markdown",
   "metadata": {},
   "source": [
    "___\n",
    "\n",
    "## Preparando o ambiente\n",
    "\n",
    "Instalando a biblioteca *tweepy* para realizar a conexão com o Twitter:"
   ]
  },
  {
   "cell_type": "code",
   "execution_count": 18,
   "metadata": {
    "collapsed": true
   },
   "outputs": [],
   "source": [
    "%%capture\n",
    "\n",
    "#Instalando o tweepy\n",
    "!pip install tweepy"
   ]
  },
  {
   "cell_type": "markdown",
   "metadata": {},
   "source": [
    "Importando as Bibliotecas que serão utilizadas. Esteja livre para adicionar outras."
   ]
  },
  {
   "cell_type": "code",
   "execution_count": 19,
   "metadata": {
    "collapsed": true
   },
   "outputs": [],
   "source": [
    "%matplotlib inline\n",
    "import tweepy\n",
    "import math\n",
    "import os.path\n",
    "import pandas as pd\n",
    "import json\n",
    "from random import shuffle"
   ]
  },
  {
   "cell_type": "markdown",
   "metadata": {},
   "source": [
    "___\n",
    "## Autenticando no  Twitter\n",
    "\n",
    "Para realizar a captura dos dados é necessário ter uma conta cadastrada no twitter:\n",
    "\n",
    "* Conta: ***[@LuccaDelchiaro]***\n",
    "\n",
    "\n",
    "1. Caso ainda não tenha uma: https://twitter.com/signup\n",
    "1. Depois é necessário registrar um app para usar a biblioteca: https://apps.twitter.com/\n",
    "1. Dentro do registro do App, na aba Keys and Access Tokens, anotar os seguintes campos:\n",
    "    1. Consumer Key (API Key)\n",
    "    1. Consumer Secret (API Secret)\n",
    "1. Mais abaixo, gere um Token e anote também:\n",
    "    1. Access Token\n",
    "    1. Access Token Secret\n",
    "    \n",
    "1. Preencha os valores no arquivo \"auth.pass\"\n",
    "\n",
    "**ATENÇÃO**: Nunca divulgue os dados desse arquivo online (GitHub, etc). Ele contém as chaves necessárias para realizar as operações no twitter de forma automática e portanto é equivalente a ser \"hackeado\". De posse desses dados, pessoas mal intencionadas podem fazer todas as operações manuais (tweetar, seguir, bloquear/desbloquear, listar os seguidores, etc). Para efeito do projeto, esse arquivo não precisa ser entregue!!!"
   ]
  },
  {
   "cell_type": "code",
   "execution_count": 20,
   "metadata": {},
   "outputs": [
    {
     "ename": "FileNotFoundError",
     "evalue": "[Errno 2] No such file or directory: 'auth.pass'",
     "output_type": "error",
     "traceback": [
      "\u001b[1;31m---------------------------------------------------------------------------\u001b[0m",
      "\u001b[1;31mFileNotFoundError\u001b[0m                         Traceback (most recent call last)",
      "\u001b[1;32m<ipython-input-20-71cd346a41cc>\u001b[0m in \u001b[0;36m<module>\u001b[1;34m()\u001b[0m\n\u001b[0;32m      4\u001b[0m \u001b[1;33m\u001b[0m\u001b[0m\n\u001b[0;32m      5\u001b[0m \u001b[1;31m#leitura do arquivo no formato JSON\u001b[0m\u001b[1;33m\u001b[0m\u001b[1;33m\u001b[0m\u001b[0m\n\u001b[1;32m----> 6\u001b[1;33m \u001b[1;32mwith\u001b[0m \u001b[0mopen\u001b[0m\u001b[1;33m(\u001b[0m\u001b[1;34m'auth.pass'\u001b[0m\u001b[1;33m)\u001b[0m \u001b[1;32mas\u001b[0m \u001b[0mfp\u001b[0m\u001b[1;33m:\u001b[0m\u001b[1;33m\u001b[0m\u001b[0m\n\u001b[0m\u001b[0;32m      7\u001b[0m     \u001b[0mdata\u001b[0m \u001b[1;33m=\u001b[0m \u001b[0mjson\u001b[0m\u001b[1;33m.\u001b[0m\u001b[0mload\u001b[0m\u001b[1;33m(\u001b[0m\u001b[0mfp\u001b[0m\u001b[1;33m)\u001b[0m\u001b[1;33m\u001b[0m\u001b[0m\n\u001b[0;32m      8\u001b[0m \u001b[1;33m\u001b[0m\u001b[0m\n",
      "\u001b[1;31mFileNotFoundError\u001b[0m: [Errno 2] No such file or directory: 'auth.pass'"
     ]
    }
   ],
   "source": [
    "#Dados de autenticação do twitter:\n",
    "\n",
    "#Coloque aqui o identificador da conta no twitter: @fulano\n",
    "\n",
    "#leitura do arquivo no formato JSON\n",
    "with open('auth.pass') as fp:    \n",
    "    data = json.load(fp)\n",
    "\n",
    "#Configurando a biblioteca. Não modificar\n",
    "auth = tweepy.OAuthHandler(data['consumer_key'], data['consumer_secret'])\n",
    "auth.set_access_token(data['access_token'], data['access_token_secret'])"
   ]
  },
  {
   "cell_type": "markdown",
   "metadata": {},
   "source": [
    "___\n",
    "## Coletando Dados\n",
    "\n",
    "Agora vamos coletar os dados. Tenha em mente que dependendo do produto escolhido, não haverá uma quantidade significativa de mensagens, ou ainda poder haver muitos retweets.<br /><br /> \n",
    "Configurando:"
   ]
  },
  {
   "cell_type": "code",
   "execution_count": 21,
   "metadata": {
    "collapsed": true
   },
   "outputs": [],
   "source": [
    "#Produto escolhido:\n",
    "produto = 'Rick_and_Morty'\n",
    "\n",
    "#Quantidade mínima de mensagens capturadas:\n",
    "n = 500\n",
    "#Quantidade mínima de mensagens para a base de treinamento:\n",
    "t = 300\n",
    "\n",
    "#Filtro de língua, escolha uma na tabela ISO 639-1.\n",
    "lang = 'pt'"
   ]
  },
  {
   "cell_type": "markdown",
   "metadata": {},
   "source": [
    "Capturando os dados do twitter:"
   ]
  },
  {
   "cell_type": "code",
   "execution_count": 22,
   "metadata": {},
   "outputs": [
    {
     "ename": "NameError",
     "evalue": "name 'auth' is not defined",
     "output_type": "error",
     "traceback": [
      "\u001b[1;31m---------------------------------------------------------------------------\u001b[0m",
      "\u001b[1;31mNameError\u001b[0m                                 Traceback (most recent call last)",
      "\u001b[1;32m<ipython-input-22-910742af87dd>\u001b[0m in \u001b[0;36m<module>\u001b[1;34m()\u001b[0m\n\u001b[0;32m      1\u001b[0m \u001b[1;31m#Cria um objeto para a captura\u001b[0m\u001b[1;33m\u001b[0m\u001b[1;33m\u001b[0m\u001b[0m\n\u001b[1;32m----> 2\u001b[1;33m \u001b[0mapi\u001b[0m \u001b[1;33m=\u001b[0m \u001b[0mtweepy\u001b[0m\u001b[1;33m.\u001b[0m\u001b[0mAPI\u001b[0m\u001b[1;33m(\u001b[0m\u001b[0mauth\u001b[0m\u001b[1;33m)\u001b[0m\u001b[1;33m\u001b[0m\u001b[0m\n\u001b[0m\u001b[0;32m      3\u001b[0m \u001b[1;33m\u001b[0m\u001b[0m\n\u001b[0;32m      4\u001b[0m \u001b[1;31m#Inicia a captura, para mais detalhes: ver a documentação do tweepy\u001b[0m\u001b[1;33m\u001b[0m\u001b[1;33m\u001b[0m\u001b[0m\n\u001b[0;32m      5\u001b[0m \u001b[0mi\u001b[0m \u001b[1;33m=\u001b[0m \u001b[1;36m1\u001b[0m\u001b[1;33m\u001b[0m\u001b[0m\n",
      "\u001b[1;31mNameError\u001b[0m: name 'auth' is not defined"
     ]
    }
   ],
   "source": [
    "#Cria um objeto para a captura\n",
    "api = tweepy.API(auth)\n",
    "\n",
    "#Inicia a captura, para mais detalhes: ver a documentação do tweepy\n",
    "i = 1\n",
    "msgs = []\n",
    "for msg in tweepy.Cursor(api.search, q=produto, lang=lang).items():    \n",
    "    msgs.append(msg.text.lower())\n",
    "    i += 1\n",
    "    if i > n:\n",
    "        break\n",
    "\n",
    "#Embaralhando as mensagens para reduzir um possível viés\n",
    "shuffle(msgs)"
   ]
  },
  {
   "cell_type": "markdown",
   "metadata": {},
   "source": [
    "Salvando os dados em uma planilha Excel:"
   ]
  },
  {
   "cell_type": "code",
   "execution_count": 23,
   "metadata": {},
   "outputs": [],
   "source": [
    "#Verifica se o arquivo não existe para não substituir um conjunto pronto\n",
    "if not os.path.isfile('./{0}.xlsx'.format(produto)):\n",
    "    \n",
    "    #Abre o arquivo para escrita\n",
    "    writer = pd.ExcelWriter('{0}.xlsx'.format(produto))\n",
    "\n",
    "    #divide o conjunto de mensagens em duas planilhas\n",
    "    dft = pd.DataFrame({'Treinamento' : pd.Series(msgs[:t])})\n",
    "    dft.to_excel(excel_writer = writer, sheet_name = 'Treinamento', index = False)\n",
    "\n",
    "    dfc = pd.DataFrame({'Teste' : pd.Series(msgs[t:])})\n",
    "    dfc.to_excel(excel_writer = writer, sheet_name = 'Teste', index = False)\n",
    "\n",
    "    #fecha o arquivo\n",
    "    writer.save()"
   ]
  },
  {
   "cell_type": "markdown",
   "metadata": {},
   "source": [
    "___\n",
    "## Classificando as Mensagens\n",
    "\n",
    "Agora você deve abrir o arquivo Excel com as mensagens capturadas e classificar na Coluna B se a mensagem é relevante ou não.<br /> \n",
    "Não se esqueça de colocar um nome para a coluna na célula **B1**.<br /><br />\n",
    "Fazer o mesmo na planilha de Controle.\n",
    "\n",
    "___\n",
    "## Montando o Classificador Naive-Bayes\n",
    "\n",
    "Com a base de treinamento montada, comece a desenvolver o classificador. Escreva o seu código abaixo:\n",
    "\n",
    "Opcionalmente: \n",
    "* Limpar as mensagens removendo os caracteres: enter, :, \", ', (, ), etc. Não remover emojis.<br />\n",
    "* Corrigir separação de espaços entre palavras e/ou emojis.\n",
    "* Propor outras limpezas/transformações que não afetem a qualidade da informação.\n",
    "\n"
   ]
  },
  {
   "cell_type": "code",
   "execution_count": 24,
   "metadata": {
    "collapsed": true,
    "scrolled": false
   },
   "outputs": [],
   "source": [
    "#Importa excel e divide em dados relevantes e irrelevantes\n",
    "data=pd.read_excel('Rick_and_Morty.xlsx')\n",
    "data=data.iloc[:,[0,14]]\n",
    "#filtra pontuação e palavras com pouca informação\n",
    "data['Treinamento']=data['Treinamento'].str.replace(':','')\n",
    "data['Treinamento']=data['Treinamento'].str.replace(',','')\n",
    "data['Treinamento']=data['Treinamento'].str.replace(\"'\",'')\n",
    "data['Treinamento']=data['Treinamento'].str.replace('-','')\n",
    "data['Treinamento']=data['Treinamento'].str.replace('\"','')\n",
    "data['Treinamento']=data['Treinamento'].str.replace(')','')\n",
    "data['Treinamento']=data['Treinamento'].str.replace('(','')\n",
    "data['Treinamento']=data['Treinamento'].str.replace(' é ',' ')\n",
    "data['Treinamento']=data['Treinamento'].str.replace(' a ',' ')\n",
    "data['Treinamento']=data['Treinamento'].str.replace(' o ',' ')\n",
    "data['Treinamento']=data['Treinamento'].str.replace(' e ',' ')\n",
    "data['Treinamento']=data['Treinamento'].str.replace(' os ',' ')\n",
    "data['Treinamento']=data['Treinamento'].str.replace(' as ',' ')\n",
    "data['Treinamento']=data['Treinamento'].str.replace(' ou ',' ')\n",
    "data['Treinamento']=data['Treinamento'].str.replace(' que ',' ')\n",
    "data['Treinamento']=data['Treinamento'].str.replace(' nas ',' ')\n",
    "data['Treinamento']=data['Treinamento'].str.replace(' na ',' ')\n",
    "data['Treinamento']=data['Treinamento'].str.replace(' no ',' ')\n",
    "data['Treinamento']=data['Treinamento'].str.replace(' nos ',' ')\n",
    "data['Treinamento']=data['Treinamento'].str.replace(' de ',' ')\n",
    "data['Treinamento']=data['Treinamento'].str.replace(' dos ',' ')\n",
    "data['Treinamento']=data['Treinamento'].str.replace(' das ',' ')\n",
    "data['Treinamento']=data['Treinamento'].str.replace(' da ',' ')\n",
    "data['Treinamento']=data['Treinamento'].str.replace(' do ',' ')\n",
    "data['Treinamento']=data['Treinamento'].str.replace('1','')\n",
    "data['Treinamento']=data['Treinamento'].str.replace('2','')\n",
    "data['Treinamento']=data['Treinamento'].str.replace('3','')\n",
    "data['Treinamento']=data['Treinamento'].str.replace('4','')\n",
    "data['Treinamento']=data['Treinamento'].str.replace('5','')\n",
    "data['Treinamento']=data['Treinamento'].str.replace('6','')\n",
    "data['Treinamento']=data['Treinamento'].str.replace('7','')\n",
    "data['Treinamento']=data['Treinamento'].str.replace('8','')\n",
    "data['Treinamento']=data['Treinamento'].str.replace('9','')\n",
    "data['Treinamento']=data['Treinamento'].str.replace('0','')\n",
    "data['Treinamento']=data['Treinamento'].str.replace('?','')\n",
    "data['Treinamento']=data['Treinamento'].str.replace('!','')\n",
    "data['Treinamento']=data['Treinamento'].str.replace('|','')\n",
    "data['Treinamento']=data['Treinamento'].str.replace('/',' ')\n",
    "data['Treinamento']=data['Treinamento'].str.replace('.',' ')\n",
    "data['Treinamento']=data['Treinamento'].str.replace('  ',' ')\n",
    "\n",
    "#separa em relevante  e irrelevante\n",
    "rdata=data[(data.B1==\"Relevante\")].copy()\n",
    "idata=data[(data.B1==\"Irrelevante\")].copy()"
   ]
  },
  {
   "cell_type": "code",
   "execution_count": 25,
   "metadata": {
    "collapsed": true
   },
   "outputs": [],
   "source": [
    "#Calcula p(A), fazendo o número de tweets que pertencem à categoria dividido pelo\n",
    "#total de tweets no training set\n",
    "ntr=rdata.shape[0]\n",
    "nti=idata.shape[0]\n",
    "pA=ntr/300\n",
    "pnotA=nti/300"
   ]
  },
  {
   "cell_type": "code",
   "execution_count": 26,
   "metadata": {
    "collapsed": true
   },
   "outputs": [],
   "source": [
    "#Passa as palavras para listas\n",
    "rdata['Treinamento']=rdata['Treinamento'].str.split(pat=None,n=-1,expand=False)\n",
    "idata['Treinamento']=idata['Treinamento'].str.split(pat=None,n=-1,expand=False)\n",
    "rdata=rdata['Treinamento'].sum(axis=None, skipna=None, level=None, numeric_only=None)\n",
    "idata=idata['Treinamento'].sum(axis=None, skipna=None, level=None, numeric_only=None)"
   ]
  },
  {
   "cell_type": "code",
   "execution_count": 27,
   "metadata": {
    "collapsed": true
   },
   "outputs": [],
   "source": [
    "#Armazena o número de palavras relevantes e irrelevantes\n",
    "nr=len(rdata)\n",
    "ni=len(idata)"
   ]
  },
  {
   "cell_type": "code",
   "execution_count": 28,
   "metadata": {
    "collapsed": true
   },
   "outputs": [],
   "source": [
    "#Contando quantas vezes cada palavra aparece em cada lista e armazena os valores em um dicionário\n",
    "rdic={}\n",
    "c=0\n",
    "while c<len(rdata):\n",
    "    if rdata[c] in rdic:\n",
    "        rdic[rdata[c]]=rdic[rdata[c]]+1\n",
    "    else:\n",
    "        rdic[rdata[c]]=1\n",
    "    c=c+1\n",
    "idic={}\n",
    "c=0\n",
    "while c<len(idata):\n",
    "    if idata[c] in idic:\n",
    "        idic[idata[c]]=idic[idata[c]]+1\n",
    "    else:\n",
    "        idic[idata[c]]=1\n",
    "    c=c+1"
   ]
  },
  {
   "cell_type": "code",
   "execution_count": 29,
   "metadata": {
    "collapsed": true
   },
   "outputs": [],
   "source": [
    "#Contando o número de possíveis palavras\n",
    "npr=len(rdic.keys())\n",
    "npi=len(idic.keys())\n",
    "npp=npr+npi"
   ]
  },
  {
   "cell_type": "code",
   "execution_count": 30,
   "metadata": {
    "collapsed": true
   },
   "outputs": [],
   "source": [
    "#calculamos a probabilidade de de cada palavra dado que ela pertence a seu conjunto (P(B|A))\n",
    "for key in rdic:\n",
    "    rdic[key]=(rdic[key]+1)/(nr+npp)\n",
    "for key in idic:\n",
    "    idic[key]=(idic[key]+1)/(ni+npp)"
   ]
  },
  {
   "cell_type": "code",
   "execution_count": 31,
   "metadata": {
    "collapsed": true
   },
   "outputs": [],
   "source": [
    "#Definindo a função que classifica uma dada frase\n",
    "def classifica(frase):\n",
    "    palavras=frase.split(\" \")\n",
    "    c=0\n",
    "    pr=1\n",
    "    pi=1\n",
    "    while c<len(palavras):\n",
    "        if palavras[c] in rdic:\n",
    "            pr=pr*rdic[palavras[c]]\n",
    "        else:\n",
    "            pr=pr*(1/npp)\n",
    "        c=c+1\n",
    "    #Multiplica resultado (P(B|A)) por P(A)\n",
    "    pr=pr*pA\n",
    "    c=0\n",
    "    while c<len(palavras):\n",
    "        if palavras[c] in idic:\n",
    "            pi=pi*idic[palavras[c]]\n",
    "        else:\n",
    "            pi=pi*(1/npp)\n",
    "        c=c+1\n",
    "    pi=pi*pnotA\n",
    "    if pr>pi:\n",
    "        return [\"Relevante\",pr,pi]\n",
    "    else:\n",
    "        return [\"Irrelevante\",pr,pi]"
   ]
  },
  {
   "cell_type": "markdown",
   "metadata": {},
   "source": [
    "___\n",
    "## Verificando a performance\n",
    "\n",
    "Agora você deve testar o seu Classificador com a base de Testes.<br /><br /> \n",
    "\n",
    "Você deve extrair as seguintes medidas:\n",
    "* Porcentagem de positivos falsos (marcados como relevante mas não são relevantes)\n",
    "* Porcentagem de positivos verdadeiros (marcado como relevante e são relevantes)\n",
    "* Porcentagem de negativos verdadeiros (marcado como não relevante e não são relevantes)\n",
    "* Porcentagem de negativos falsos (marcado como não relevante e são relevantes)\n",
    "\n",
    "Opcionalmente:\n",
    "* Criar categorias intermediárias de relevância baseado na diferença de probabilidades. Exemplo: muito relevante, relevante, neutro, irrelevante e muito irrelevante."
   ]
  },
  {
   "cell_type": "code",
   "execution_count": 32,
   "metadata": {
    "collapsed": true
   },
   "outputs": [],
   "source": [
    "#Importa excel de teste e monta um dataframe comparando a classificação humana\n",
    "#com a do Naive-bayes\n",
    "tdata=pd.read_excel(\"Rick_and_Morty.xlsx\", sheetname = \"Teste\")\n",
    "tdata=tdata.iloc[:,[0,14]]\n",
    "tweets=tdata['Teste'].values.tolist()\n",
    "valores=tdata['Relevancia'].values.tolist()\n",
    "c=0\n",
    "naive=[]\n",
    "pr=[]\n",
    "pi=[]\n",
    "while c<200:\n",
    "    v=classifica(tweets[c])\n",
    "    naive.append(v[0])\n",
    "    pr.append(v[1])\n",
    "    pi.append(v[2])\n",
    "    c=c+1\n",
    "c=0\n",
    "resultado=[]\n",
    "while c<200:\n",
    "    if valores[c]==naive[c] and valores[c]==\"Relevante\":\n",
    "        resultado.append(\"Positivo Verdadeiro\")\n",
    "    elif valores[c]!=naive[c] and valores[c]==\"Relevante\":\n",
    "        resultado.append(\"Negativo Falso\")\n",
    "    elif valores[c]==naive[c] and valores[c]==\"Irrelevante\":\n",
    "        resultado.append(\"Negativo Verdadeiro\")\n",
    "    elif valores[c]!=naive[c] and valores[c]==\"Irrelevante\":\n",
    "        resultado.append(\"Positivo Falso\")\n",
    "    c=c+1\n",
    "        \n",
    "resposta = pd.DataFrame({'Tweet':tweets,'Humana':valores,'Naive':naive,'Resultado':resultado})"
   ]
  },
  {
   "cell_type": "code",
   "execution_count": 33,
   "metadata": {
    "collapsed": true
   },
   "outputs": [],
   "source": [
    "#Para criar classificações intermediárias, dividimos Pr por Pi, assim podemos comparar a magnitude \n",
    "c=0\n",
    "razao=[]\n",
    "while c<200:\n",
    "    razao.append(pr[c]/pi[c])\n",
    "    c=c+1"
   ]
  },
  {
   "cell_type": "code",
   "execution_count": 34,
   "metadata": {
    "collapsed": true
   },
   "outputs": [],
   "source": [
    "#Classificamos a relevância dependendo da magnitude da razão\n",
    "c=0\n",
    "inter=[]\n",
    "while c<200:\n",
    "    if 0.5<razao[c] and razao[c]<5:\n",
    "        inter.append(\"Neutro\")\n",
    "    elif 10**-5<razao[c] and razao[c]<0.5:\n",
    "        inter.append(\"Irrelevante\")\n",
    "    elif 5<razao[c] and razao[c]<10**5:\n",
    "        inter.append(\"Relevante\")\n",
    "    elif razao[c]<=10**-5:\n",
    "        inter.append(\"Muito Irrelevante\")\n",
    "    elif 10**5<razao[c]:\n",
    "        inter.append(\"Muito Relevante\")\n",
    "    c=c+1\n",
    "probabilidades = pd.DataFrame({'Pr':pr,'Pi':pi,'Pr/Pi':razao,'Classificacao':inter})"
   ]
  },
  {
   "cell_type": "code",
   "execution_count": 35,
   "metadata": {},
   "outputs": [
    {
     "data": {
      "text/plain": [
       "<matplotlib.axes._subplots.AxesSubplot at 0x1eaf90d76a0>"
      ]
     },
     "execution_count": 35,
     "metadata": {},
     "output_type": "execute_result"
    },
    {
     "data": {
      "image/png": "[encoded data removed]",
      "text/plain": [
       "<matplotlib.figure.Figure at 0x1eaf91c5a58>"
      ]
     },
     "metadata": {},
     "output_type": "display_data"
    }
   ],
   "source": [
    "#Plotamos um gráfico de setores com as porcentagens de cada possível classificação\n",
    "seg1=probabilidades.Classificacao.value_counts(True)*100\n",
    "seg1.plot(kind='pie',autopct=\"%0.1f\",legend=False)"
   ]
  },
  {
   "cell_type": "code",
   "execution_count": 36,
   "metadata": {},
   "outputs": [
    {
     "data": {
      "text/html": [
       "<div>\n",
       "<style>\n",
       "    .dataframe thead tr:only-child th {\n",
       "        text-align: right;\n",
       "    }\n",
       "\n",
       "    .dataframe thead th {\n",
       "        text-align: left;\n",
       "    }\n",
       "\n",
       "    .dataframe tbody tr th {\n",
       "        vertical-align: top;\n",
       "    }\n",
       "</style>\n",
       "<table border=\"1\" class=\"dataframe\">\n",
       "  <thead>\n",
       "    <tr style=\"text-align: right;\">\n",
       "      <th>Naive</th>\n",
       "      <th>Irrelevante</th>\n",
       "      <th>Relevante</th>\n",
       "    </tr>\n",
       "    <tr>\n",
       "      <th>Humana</th>\n",
       "      <th></th>\n",
       "      <th></th>\n",
       "    </tr>\n",
       "  </thead>\n",
       "  <tbody>\n",
       "    <tr>\n",
       "      <th>Irrelevante</th>\n",
       "      <td>50</td>\n",
       "      <td>44</td>\n",
       "    </tr>\n",
       "    <tr>\n",
       "      <th>Relevante</th>\n",
       "      <td>27</td>\n",
       "      <td>79</td>\n",
       "    </tr>\n",
       "  </tbody>\n",
       "</table>\n",
       "</div>"
      ],
      "text/plain": [
       "Naive        Irrelevante  Relevante\n",
       "Humana                             \n",
       "Irrelevante           50         44\n",
       "Relevante             27         79"
      ]
     },
     "execution_count": 36,
     "metadata": {},
     "output_type": "execute_result"
    }
   ],
   "source": [
    "#Criando uma cross table que compara a classificação humana com a do Naive\n",
    "ct=pd.crosstab(resposta.Humana, resposta.Naive)\n",
    "ct"
   ]
  },
  {
   "cell_type": "code",
   "execution_count": 37,
   "metadata": {
    "scrolled": true
   },
   "outputs": [
    {
     "data": {
      "text/plain": [
       "<matplotlib.axes._subplots.AxesSubplot at 0x1eaf95ec198>"
      ]
     },
     "execution_count": 37,
     "metadata": {},
     "output_type": "execute_result"
    },
    {
     "data": {
      "image/png": "[encoded data removed]",
      "text/plain": [
       "<matplotlib.figure.Figure at 0x1eaf95d8be0>"
      ]
     },
     "metadata": {},
     "output_type": "display_data"
    }
   ],
   "source": [
    "#Plota as porcentagens em gráfico de setor\n",
    "seg2=resposta.Resultado.value_counts(True)*100\n",
    "seg2.plot(kind='pie',autopct=\"%0.1f\",legend=False)"
   ]
  },
  {
   "cell_type": "markdown",
   "metadata": {
    "collapsed": true
   },
   "source": [
    "___\n",
    "## Concluindo\n",
    "\n",
    "Escreva aqui a sua conclusão.<br /> \n",
    "Faça um comparativo qualitativo sobre as medidas obtidas.<br />\n",
    "Explique como são tratadas as mensagens com dupla negação e sarcasmo.<br />\n",
    "Proponha um plano de expansão. Por que eles devem continuar financiando o seu projeto?<br />\n",
    "\n",
    "Opcionalmente: \n",
    "* Discorrer por que não posso alimentar minha base de Treinamento automaticamente usando o próprio classificador, aplicado a novos tweets.\n",
    "* Propor diferentes cenários de uso para o classificador Naive-Bayes. Cenários sem intersecção com este projeto.\n",
    "* Sugerir e explicar melhorias reais no classificador com indicações concretas de como implementar (não é preciso codificar, mas indicar como fazer e material de pesquisa sobre o assunto).\n"
   ]
  },
  {
   "cell_type": "markdown",
   "metadata": {},
   "source": [
    "Em conclusão, os resultados obtidos foram positivos, mas limitados, com o classificador obtendo sucesso em 64,5% dos casos. O Naive-Bayes demosntrou uma leve tendência a considerar  as mensagens relevantes, o que gerou uma maior ocorrência de positivos. Isso possivelmente ocorreu devido ao número superior de mensagens relevantes em relação às irrelevantes no database de teste.\n",
    "\n",
    "Apesar de não terem sido encontradas muitas mensagens com sarcasmo ou dupla negação neste database, podemos usar nosso conhecimento sobre o Naive-Bayes para concluír o que ocorreria caso o software fosse exposto a elas. O Naive-Bayes é um algorítmo simples, que trabalha analizando a frequência com que palavras aparecem e tratando as palavras de uma frase com independentes. Isso faz com que ele seja incapaz de notar sutilezas que denunciam sarcasmo. Como ele considera cada palavra da frase com independente, ele também seria incapaz de compreender o significado de uma dupla negação. Por esses motivos, o Naive-Bayes provavelmente classificaria esse tipo de tweets como irrelevantes.\n",
    "\n",
    "Alimentar a base de treinamento com os tweets classificados pelo próprio classificador não seria útil. Como ele só colocaria na base de frases relevantes as frases que ele já teria considerado como relevantes, esse processo não traria nenhuma informação nova para o classificador e provavelmente só aprofundaria as tendências que o classificador já tinha (tanto as tendências positivas quanto as negativas)\n",
    "\n",
    "O princípio fundamental do classificador Naive-Bayes é o teorema de Bayes, que nos fornece a probabilidade P(A|B) quando temos, entre outros valores, a probabilidade P(B|A). Assim, esse classificador poderá ser usado em casos em que precisamos encontrar P(A|B) e temos P(B|A). Um possível exemplo seria utilizá-lo para calcular a probabilidade de certo clima dado um banco de dados com várias medidas e o clima daquele dia. Assim, para calcular a probabilidade de chuver em um dia, dado a temperatura, umidade e outras medidas, o classificador olharia um banco de dados com dias em que choveu e as medidas dos dias respectivos. Assim como fizemos para analizar frases, consideraríamos que cada medida é independente da outra, multiplicando suas probabilidades para obter a probabilidade de que todas elas tenham ocorrido no dia.\n",
    "\n",
    "Enquanto analizávamos os tweets encontramos diversas mensagens que seriam úteis para o marketing do produto escolhido, incluíndo opiniões sobre ele, críticas, elogios e reclamações. Essas informações poderiam ser utilizadas para melhorar a performance do produto. Apesar disso, o processo manual é muito lento e custoso. Faz sentido econômico investir em um software que automatiza esse processo e permanece funcionando sem grande manutenção. Existem diversas formas de aperfeiçoar o software, como melhorar o processo de filtração, aumentar o database de treinamento e definir regras mais rigorosas para quais mensagens são relevantes. Com essas melhorias, a taxa de acerto do software melhoraria muito, economizando muito dinheiro para a empresa.\n",
    "\n",
    "Para aperfeiçoar a performance do classificador ainda mais, poderíamos estudar mais palavras que carregam pouco informação e removê-las do conjunto de treinamento, como já fizemos com algumas palavras em nosso projeto. Além disso também poderíamos agrupar variações da mesma palavra, considerando todas elas como a mesma palavra. Por exemplo, o plural e singular de uma palavra dificilmente carregariam informação muito diferente um do outro, assim, contando ambas ocorrências como a mesma, melhoraríamos a performance. Analizando os tweets encontrados, foi possível perceber uma alta ocorrência de erros de ortografia. Palavras com erros atrapalham o software, pois normalmente são ocorrências únicas que não trazem informação nova. Poderíamos filtrá-las, codificando algumas regras gramaticais em nosso software para limpar o conjunto de testes de erros desse tipo. Por exemplo, sabemos que algumas letras não aparecem duas vezes seguidas em nenhuma palavra da língua portuguesa (como 'l', 'v', 'z', etc.). Poderíamos criar um código que remove palavras em que isso aconteça. Essas técnicas para aperfeiçoar o classificador foram encontradas nos seguintes endereços:\n",
    "https://monkeylearn.com/blog/practical-explanation-naive-bayes-classifier/\n",
    "https://www.vooo.pro/insights/6-passos-faceis-para-aprender-o-algoritmo-naive-bayes-com-o-codigo-em-python/"
   ]
  }
 ],
 "metadata": {
  "kernelspec": {
   "display_name": "Python 3",
   "language": "python",
   "name": "python3"
  },
  "language_info": {
   "codemirror_mode": {
    "name": "ipython",
    "version": 3
   },
   "file_extension": ".py",
   "mimetype": "text/x-python",
   "name": "python",
   "nbconvert_exporter": "python",
   "pygments_lexer": "ipython3",
   "version": "3.6.1"
  }
 },
 "nbformat": 4,
 "nbformat_minor": 1
}
